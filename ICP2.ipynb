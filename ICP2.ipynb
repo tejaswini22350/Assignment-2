{
  "nbformat": 4,
  "nbformat_minor": 0,
  "metadata": {
    "colab": {
      "provenance": [],
      "toc_visible": true
    },
    "kernelspec": {
      "name": "python3",
      "display_name": "Python 3"
    },
    "language_info": {
      "name": "python"
    }
  },
  "cells": [
    {
      "cell_type": "code",
      "execution_count": 6,
      "metadata": {
        "colab": {
          "base_uri": "https://localhost:8080/"
        },
        "id": "41PaB0GPVh5S",
        "outputId": "362c8e8d-f63a-4aff-b205-71ceaaa36994"
      },
      "outputs": [
        {
          "output_type": "stream",
          "name": "stdout",
          "text": [
            "Total Employees: 3\n",
            "Average Salary of all Employees: 62500.0\n",
            "Average Salary of Fulltime Employee: 25000.0\n"
          ]
        }
      ],
      "source": [
        "class Employee:\n",
        "  employee_count = 0\n",
        "\n",
        "  def __init__(self, name, family, salary, department):\n",
        "      self.name = name\n",
        "      self.family = family\n",
        "      self.salary = salary\n",
        "      self.department = department\n",
        "\n",
        "      Employee.employee_count += 1\n",
        "\n",
        "  def average_salary(self, *salaries):\n",
        "      total_salary = sum(salaries)\n",
        "      return total_salary / len(salaries) if len(salaries) > 0 else 0\n",
        "\n",
        "class FulltimeEmployee(Employee):\n",
        "  def __init__(self, name, family, salary, department, working_hours):\n",
        "      super().__init__(name, family, salary, department)\n",
        "\n",
        "      self.working_hours = working_hours\n",
        "\n",
        "employee1 = Employee(\"Tejaswini\", \"Family1\", 75000, \"SE1\")\n",
        "employee2 = Employee(\"Syalini\", \"Family2\", 50000, \"ASE\")\n",
        "\n",
        "fulltime_employee = FulltimeEmployee(\"Chinnu\", \"Family3\", 25000, \"IT\", 38)\n",
        "\n",
        "average_salary_all = employee1.average_salary(employee1.salary, employee2.salary)\n",
        "average_salary_fulltime = fulltime_employee.average_salary(fulltime_employee.salary)\n",
        "\n",
        "# Print results\n",
        "print(\"Total Employees:\", Employee.employee_count)\n",
        "print(\"Average Salary of all Employees:\", average_salary_all)\n",
        "print(\"Average Salary of Fulltime Employee:\", average_salary_fulltime)"
      ]
    },
    {
      "cell_type": "code",
      "source": [
        "import numpy as np\n",
        "\n",
        "random_vector = np.random.uniform(1, 20, 20)\n",
        "reshaped_array = random_vector.reshape(4, 5)\n",
        "reshaped_array[np.arange(len(reshaped_array)), reshaped_array.argmax(axis=1)] = 0\n",
        "\n",
        "print(\"Original Random Vector:\")\n",
        "print(random_vector)\n",
        "print(\"\\nReshaped Array (4 by 5):\")\n",
        "print(reshaped_array)"
      ],
      "metadata": {
        "colab": {
          "base_uri": "https://localhost:8080/"
        },
        "id": "tWIXhvFwWM5N",
        "outputId": "883fca40-09ce-4417-aec5-a3c19021eb7b"
      },
      "execution_count": 5,
      "outputs": [
        {
          "output_type": "stream",
          "name": "stdout",
          "text": [
            "Original Random Vector:\n",
            "[ 0.          5.81170753  5.7689511   6.23592308  9.19023956 10.72492816\n",
            "  4.35178333 11.10326294  0.          8.31644019 17.98468246  6.68562868\n",
            "  5.51177351  0.         19.81094382 17.76133543  6.10413814  2.16216652\n",
            "  0.         11.35365254]\n",
            "\n",
            "Reshaped Array (4 by 5):\n",
            "[[ 0.          5.81170753  5.7689511   6.23592308  9.19023956]\n",
            " [10.72492816  4.35178333 11.10326294  0.          8.31644019]\n",
            " [17.98468246  6.68562868  5.51177351  0.         19.81094382]\n",
            " [17.76133543  6.10413814  2.16216652  0.         11.35365254]]\n"
          ]
        }
      ]
    }
  ]
}